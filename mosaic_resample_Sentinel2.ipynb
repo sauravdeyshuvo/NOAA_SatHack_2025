{
 "cells": [
  {
   "cell_type": "code",
   "execution_count": 4,
   "id": "378f481c-a4e3-463f-911e-c829dfd218ad",
   "metadata": {},
   "outputs": [
    {
     "name": "stdout",
     "output_type": "stream",
     "text": [
      "Mosaicking & resampling 41 files → B03_0p1deg.tif\n",
      "  ✔ Saved: D:\\1Research\\2025\\NOAA_SatHack\\data\\sentinel_ca\\B03_0p1deg.tif\n",
      "\n",
      "Mosaicking & resampling 41 files → B04_0p1deg.tif\n",
      "  ✔ Saved: D:\\1Research\\2025\\NOAA_SatHack\\data\\sentinel_ca\\B04_0p1deg.tif\n",
      "\n",
      "Mosaicking & resampling 41 files → B08_0p1deg.tif\n",
      "  ✔ Saved: D:\\1Research\\2025\\NOAA_SatHack\\data\\sentinel_ca\\B08_0p1deg.tif\n",
      "\n",
      "Mosaicking & resampling 41 files → B11_0p1deg.tif\n",
      "  ✔ Saved: D:\\1Research\\2025\\NOAA_SatHack\\data\\sentinel_ca\\B11_0p1deg.tif\n",
      "\n"
     ]
    }
   ],
   "source": [
    "import os\n",
    "import glob\n",
    "from osgeo import gdal\n",
    "\n",
    "# parent folder \n",
    "out_root = r\"D:\\1Research\\2025\\NOAA_SatHack\\data\\sentinel_ca\"\n",
    "\n",
    "# your CA extent and target resolution\n",
    "lon_min, lon_max = -124.5, -114.0\n",
    "lat_min, lat_max =   32.0,    42.0\n",
    "xres, yres = 0.1, 0.1\n",
    "\n",
    "bands = [\"B03\", \"B04\", \"B08\", \"B11\"]\n",
    "\n",
    "for band in bands:\n",
    "    # recursively glob for any file ending _Bxx.tif\n",
    "    pattern = os.path.join(out_root, \"**\", f\"*_{band}.tif\")\n",
    "    src_files = glob.glob(pattern, recursive=True)\n",
    "    if not src_files:\n",
    "        print(f\"[!] No files found for band {band}, skipping.\")\n",
    "        continue\n",
    "\n",
    "    out_tif = os.path.join(out_root, f\"{band}_0p1deg.tif\")\n",
    "    print(f\"Mosaicking & resampling {len(src_files)} files → {os.path.basename(out_tif)}\")\n",
    "\n",
    "    # I am using 'gdal.Warp' here \n",
    "    # gdal.Warp will:\n",
    "    #  • mosaic all inputs together\n",
    "    #  • reproject to EPSG:4326\n",
    "    #  • clip to your CA bounds\n",
    "    #  • resample to 0.1° resolution\n",
    "    #  • write a LZW-compressed GeoTIFF\n",
    "    gdal.Warp(\n",
    "        destNameOrDestDS=out_tif,\n",
    "        srcDSOrSrcDSTab=src_files,\n",
    "        format=\"GTiff\",\n",
    "        dstSRS=\"EPSG:4326\",\n",
    "        outputBounds=[lon_min, lat_min, lon_max, lat_max],\n",
    "        xRes=xres,\n",
    "        yRes=yres,\n",
    "        resampleAlg=gdal.GRA_Bilinear,\n",
    "        dstNodata=0,\n",
    "        creationOptions=[\"COMPRESS=LZW\"]\n",
    "    )\n",
    "\n",
    "    print(f\" Saved: {out_tif}\\n\")\n"
   ]
  }
 ],
 "metadata": {
  "kernelspec": {
   "display_name": "Python 3 (ipykernel)",
   "language": "python",
   "name": "python3"
  },
  "language_info": {
   "codemirror_mode": {
    "name": "ipython",
    "version": 3
   },
   "file_extension": ".py",
   "mimetype": "text/x-python",
   "name": "python",
   "nbconvert_exporter": "python",
   "pygments_lexer": "ipython3",
   "version": "3.9.23"
  }
 },
 "nbformat": 4,
 "nbformat_minor": 5
}
