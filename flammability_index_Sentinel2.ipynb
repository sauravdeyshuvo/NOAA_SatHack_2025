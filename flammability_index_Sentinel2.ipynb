{
 "cells": [
  {
   "cell_type": "code",
   "execution_count": 2,
   "id": "ac01c478-a4aa-4172-b142-920d7faeac24",
   "metadata": {},
   "outputs": [
    {
     "name": "stdout",
     "output_type": "stream",
     "text": [
      "Flammability index saved to: D:\\1Research\\2025\\NOAA_SatHack\\data\\sentinel_ca\\sentinel_flammability_0p1deg.tif\n"
     ]
    }
   ],
   "source": [
    "import numpy as np\n",
    "import rasterio\n",
    "import os\n",
    "\n",
    "# file paths\n",
    "root = r\"D:\\1Research\\2025\\NOAA_SatHack\\data\\sentinel_ca\"\n",
    "red_tif   = os.path.join(root, \"B04_0p1deg.tif\")\n",
    "nir_tif   = os.path.join(root, \"B08_0p1deg.tif\")\n",
    "green_tif = os.path.join(root, \"B03_0p1deg.tif\")\n",
    "swir_tif  = os.path.join(root, \"B11_0p1deg.tif\")\n",
    "\n",
    "# read arrays and metadata\n",
    "with rasterio.open(red_tif)   as src: red   = src.read(1); meta = src.meta\n",
    "with rasterio.open(nir_tif)   as src: nir   = src.read(1)\n",
    "with rasterio.open(green_tif) as src: green = src.read(1)\n",
    "with rasterio.open(swir_tif)  as src: swir  = src.read(1)\n",
    "\n",
    "# indices\n",
    "ndvi = (nir - red)   / (nir + red   + 1e-6)\n",
    "ndwi = (green - swir)/ (green + swir + 1e-6)\n",
    "flammability = (1 - ndvi) * (1 - ndwi)\n",
    "\n",
    "# update meta for single‐band output\n",
    "meta.update(dtype=\"float32\", count=1, compress=\"lzw\")\n",
    "\n",
    "out_flame = os.path.join(root, \"sentinel_flammability_0p1deg.tif\")\n",
    "with rasterio.open(out_flame, \"w\", **meta) as dst:\n",
    "    dst.write(flammability.astype(\"float32\"), 1)\n",
    "\n",
    "print(\"Flammability index saved to:\", out_flame)\n"
   ]
  }
 ],
 "metadata": {
  "kernelspec": {
   "display_name": "Python 3 (ipykernel)",
   "language": "python",
   "name": "python3"
  },
  "language_info": {
   "codemirror_mode": {
    "name": "ipython",
    "version": 3
   },
   "file_extension": ".py",
   "mimetype": "text/x-python",
   "name": "python",
   "nbconvert_exporter": "python",
   "pygments_lexer": "ipython3",
   "version": "3.9.23"
  }
 },
 "nbformat": 4,
 "nbformat_minor": 5
}
