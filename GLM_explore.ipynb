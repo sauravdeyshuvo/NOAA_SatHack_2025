{
 "cells": [
  {
   "cell_type": "code",
   "execution_count": 4,
   "id": "1737fcec-3c8c-4b3e-b1e6-150080209d1b",
   "metadata": {},
   "outputs": [
    {
     "name": "stdout",
     "output_type": "stream",
     "text": [
      "Found 4320 files on 2020-08-16 (DOY 229)\n",
      "  GLM-L2-LCFA/2020/229/00/OR_GLM-L2-LCFA_G16_s20202290000000_e20202290000200_c20202290000227.nc\n",
      "  GLM-L2-LCFA/2020/229/00/OR_GLM-L2-LCFA_G16_s20202290000200_e20202290000400_c20202290000428.nc\n",
      "  GLM-L2-LCFA/2020/229/00/OR_GLM-L2-LCFA_G16_s20202290000400_e20202290001000_c20202290001030.nc\n",
      "  GLM-L2-LCFA/2020/229/00/OR_GLM-L2-LCFA_G16_s20202290001000_e20202290001200_c20202290001338.nc\n",
      "  GLM-L2-LCFA/2020/229/00/OR_GLM-L2-LCFA_G16_s20202290001200_e20202290001400_c20202290001427.nc\n"
     ]
    }
   ],
   "source": [
    "import boto3\n",
    "from botocore import UNSIGNED\n",
    "from botocore.client import Config\n",
    "from datetime import datetime\n",
    "\n",
    "def list_glm_files(date_str):\n",
    "    \"\"\"\n",
    "    List GOES-16 GLM-L2-LCFA files for a given date.\n",
    "    date_str: 'YYYY-MM-DD'\n",
    "    \"\"\"\n",
    "    # 1. Parse the date and get year & day-of-year\n",
    "    dt   = datetime.strptime(date_str, '%Y-%m-%d')\n",
    "    year = dt.year\n",
    "    doy  = dt.strftime('%j')   \n",
    "\n",
    "    # 2. Build the S3 prefix using DOY\n",
    "    prefix = f'GLM-L2-LCFA/{year}/{doy}/'\n",
    "    \n",
    "    # 3. Page through the bucket\n",
    "    s3 = boto3.client('s3', config=Config(signature_version=UNSIGNED))\n",
    "    paginator = s3.get_paginator('list_objects_v2')\n",
    "    pages = paginator.paginate(Bucket='noaa-goes16', Prefix=prefix)\n",
    "\n",
    "    keys = []\n",
    "    for page in pages:\n",
    "        for obj in page.get('Contents', []):\n",
    "            keys.append(obj['Key'])\n",
    "    return keys\n",
    "\n",
    "# Test it\n",
    "files = list_glm_files('2020-08-16')\n",
    "print(f\"Found {len(files)} files on 2020-08-16 (DOY 229)\")\n",
    "for k in files[:5]:\n",
    "    print(' ', k)\n"
   ]
  }
 ],
 "metadata": {
  "kernelspec": {
   "display_name": "Python 3 (ipykernel)",
   "language": "python",
   "name": "python3"
  },
  "language_info": {
   "codemirror_mode": {
    "name": "ipython",
    "version": 3
   },
   "file_extension": ".py",
   "mimetype": "text/x-python",
   "name": "python",
   "nbconvert_exporter": "python",
   "pygments_lexer": "ipython3",
   "version": "3.9.23"
  }
 },
 "nbformat": 4,
 "nbformat_minor": 5
}
