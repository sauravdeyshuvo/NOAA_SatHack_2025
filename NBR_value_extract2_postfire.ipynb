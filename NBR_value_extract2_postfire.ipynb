{
 "cells": [
  {
   "cell_type": "code",
   "execution_count": 2,
   "id": "2a1c0f29-6c26-4447-be96-9d9c9c11ef5f",
   "metadata": {},
   "outputs": [
    {
     "name": "stdout",
     "output_type": "stream",
     "text": [
      "✅ Saved county‐level NBR to: D:\\1Research\\2025\\NOAA_SatHack\\NBR\\postfire_nbr.xlsx\n"
     ]
    }
   ],
   "source": [
    "import os\n",
    "import numpy as np\n",
    "import geopandas as gpd\n",
    "import rasterio\n",
    "from rasterio.mask import mask\n",
    "from shapely.geometry import box\n",
    "import pandas as pd\n",
    "\n",
    "# PATHS\n",
    "mosaic_fp    = r\"D:\\1Research\\2025\\NOAA_SatHack\\NBR\\nbr_mosaic2_1km.tif\"\n",
    "county_shp   = r\"D:\\1Research\\2025\\NOAA_SatHack\\cb_2018_us_county_500k\\cb_2018_us_county_500k.shp\"\n",
    "output_excel = r\"D:\\1Research\\2025\\NOAA_SatHack\\NBR\\postfire_nbr.xlsx\"\n",
    "\n",
    "# LOAD and FILTER COUNTIES\n",
    "counties    = gpd.read_file(county_shp)\n",
    "ca_counties = counties[counties[\"STATEFP\"] == \"06\"].copy()\n",
    "\n",
    "# OPEN NBR MOSAIC and PREPARE BBOX\n",
    "results = []\n",
    "with rasterio.open(mosaic_fp) as src:\n",
    "    # Reproject counties into the raster CRS\n",
    "    ca_counties = ca_counties.to_crs(src.crs)\n",
    "    # Build a bounding‐box polygon of the raster extent\n",
    "    raster_bbox = box(*src.bounds)\n",
    "\n",
    "    # Iterate over counties\n",
    "    for _, row in ca_counties.iterrows():\n",
    "        name    = row[\"NAME\"]\n",
    "        poly    = row.geometry\n",
    "\n",
    "        # Skip if county polygon does not intersect the raster footprint\n",
    "        if not poly.intersects(raster_bbox):\n",
    "            mean_nbr = np.nan\n",
    "        else:\n",
    "            try:\n",
    "                # Mask the raster by this county polygon\n",
    "                out_image, _ = mask(\n",
    "                    src,\n",
    "                    [poly],\n",
    "                    crop=True,\n",
    "                    filled=True,\n",
    "                    nodata=np.nan\n",
    "                )\n",
    "                data = out_image[0]  \n",
    "\n",
    "                # Extract valid pixels and compute mean\n",
    "                vals = data[~np.isnan(data)]\n",
    "                mean_nbr = round(float(vals.sum() / vals.size), 2) if vals.size else np.nan\n",
    "\n",
    "            except ValueError:\n",
    "                # Catch any masking errors\n",
    "                mean_nbr = np.nan\n",
    "\n",
    "        results.append({\n",
    "            \"Name of County\": name,\n",
    "            \"NBR value\":      mean_nbr\n",
    "        })\n",
    "\n",
    "# SAVE TO EXCEL\n",
    "df = pd.DataFrame(results).sort_values(\"Name of County\").reset_index(drop=True)\n",
    "df.to_excel(output_excel, index=False)\n",
    "print(f\"Saved county‐level NBR to: {output_excel}\")\n"
   ]
  }
 ],
 "metadata": {
  "kernelspec": {
   "display_name": "Python 3 (ipykernel)",
   "language": "python",
   "name": "python3"
  },
  "language_info": {
   "codemirror_mode": {
    "name": "ipython",
    "version": 3
   },
   "file_extension": ".py",
   "mimetype": "text/x-python",
   "name": "python",
   "nbconvert_exporter": "python",
   "pygments_lexer": "ipython3",
   "version": "3.9.23"
  }
 },
 "nbformat": 4,
 "nbformat_minor": 5
}
